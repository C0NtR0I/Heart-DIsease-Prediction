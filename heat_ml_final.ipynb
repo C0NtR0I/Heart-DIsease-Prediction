{
 "cells": [
  {
   "cell_type": "markdown",
   "id": "9ca718d9",
   "metadata": {},
   "source": [
    "# Heart Disease prediction using logistic regression"
   ]
  },
  {
   "cell_type": "code",
   "execution_count": null,
   "id": "dcc5b37d",
   "metadata": {},
   "outputs": [],
   "source": [
    "# importing the libraries\n",
    "\n",
    "import numpy as np\n",
    "import pandas as pd\n",
    "from sklearn.model_selection import train_test_split\n",
    "from sklearn.linear_model import LogisticRegression\n",
    "from sklearn.metrics import accuracy_score\n",
    "import tkinter as tk\n",
    "from tkinter import ttk\n",
    "from tkinter import messagebox"
   ]
  },
  {
   "cell_type": "code",
   "execution_count": 19,
   "id": "f01dd4c4",
   "metadata": {},
   "outputs": [],
   "source": [
    "# read the csv folder\n",
    "\n",
    "df = pd.read_csv(\"new heart data.csv\")\n"
   ]
  },
  {
   "cell_type": "markdown",
   "id": "0c7b099e",
   "metadata": {},
   "source": [
    "# data preprocessing"
   ]
  },
  {
   "cell_type": "code",
   "execution_count": 20,
   "id": "b34bac58",
   "metadata": {},
   "outputs": [
    {
     "data": {
      "text/html": [
       "<div>\n",
       "<style scoped>\n",
       "    .dataframe tbody tr th:only-of-type {\n",
       "        vertical-align: middle;\n",
       "    }\n",
       "\n",
       "    .dataframe tbody tr th {\n",
       "        vertical-align: top;\n",
       "    }\n",
       "\n",
       "    .dataframe thead th {\n",
       "        text-align: right;\n",
       "    }\n",
       "</style>\n",
       "<table border=\"1\" class=\"dataframe\">\n",
       "  <thead>\n",
       "    <tr style=\"text-align: right;\">\n",
       "      <th></th>\n",
       "      <th>age</th>\n",
       "      <th>sex</th>\n",
       "      <th>cp</th>\n",
       "      <th>trestbps</th>\n",
       "      <th>chol</th>\n",
       "      <th>target</th>\n",
       "    </tr>\n",
       "  </thead>\n",
       "  <tbody>\n",
       "    <tr>\n",
       "      <th>0</th>\n",
       "      <td>63</td>\n",
       "      <td>1</td>\n",
       "      <td>3</td>\n",
       "      <td>145</td>\n",
       "      <td>233</td>\n",
       "      <td>1</td>\n",
       "    </tr>\n",
       "    <tr>\n",
       "      <th>1</th>\n",
       "      <td>37</td>\n",
       "      <td>1</td>\n",
       "      <td>2</td>\n",
       "      <td>130</td>\n",
       "      <td>250</td>\n",
       "      <td>1</td>\n",
       "    </tr>\n",
       "    <tr>\n",
       "      <th>2</th>\n",
       "      <td>41</td>\n",
       "      <td>0</td>\n",
       "      <td>1</td>\n",
       "      <td>130</td>\n",
       "      <td>204</td>\n",
       "      <td>1</td>\n",
       "    </tr>\n",
       "    <tr>\n",
       "      <th>3</th>\n",
       "      <td>56</td>\n",
       "      <td>1</td>\n",
       "      <td>1</td>\n",
       "      <td>120</td>\n",
       "      <td>236</td>\n",
       "      <td>1</td>\n",
       "    </tr>\n",
       "    <tr>\n",
       "      <th>4</th>\n",
       "      <td>57</td>\n",
       "      <td>0</td>\n",
       "      <td>0</td>\n",
       "      <td>120</td>\n",
       "      <td>354</td>\n",
       "      <td>1</td>\n",
       "    </tr>\n",
       "  </tbody>\n",
       "</table>\n",
       "</div>"
      ],
      "text/plain": [
       "   age  sex  cp  trestbps  chol  target\n",
       "0   63    1   3       145   233       1\n",
       "1   37    1   2       130   250       1\n",
       "2   41    0   1       130   204       1\n",
       "3   56    1   1       120   236       1\n",
       "4   57    0   0       120   354       1"
      ]
     },
     "execution_count": 20,
     "metadata": {},
     "output_type": "execute_result"
    }
   ],
   "source": [
    "df.head()"
   ]
  },
  {
   "cell_type": "code",
   "execution_count": 21,
   "id": "878d455d",
   "metadata": {},
   "outputs": [
    {
     "name": "stdout",
     "output_type": "stream",
     "text": [
      "<class 'pandas.core.frame.DataFrame'>\n",
      "RangeIndex: 303 entries, 0 to 302\n",
      "Data columns (total 6 columns):\n",
      " #   Column    Non-Null Count  Dtype\n",
      "---  ------    --------------  -----\n",
      " 0   age       303 non-null    int64\n",
      " 1   sex       303 non-null    int64\n",
      " 2   cp        303 non-null    int64\n",
      " 3   trestbps  303 non-null    int64\n",
      " 4   chol      303 non-null    int64\n",
      " 5   target    303 non-null    int64\n",
      "dtypes: int64(6)\n",
      "memory usage: 14.3 KB\n"
     ]
    }
   ],
   "source": [
    "df.info()"
   ]
  },
  {
   "cell_type": "code",
   "execution_count": 22,
   "id": "2813a403",
   "metadata": {},
   "outputs": [
    {
     "data": {
      "text/plain": [
       "age         0\n",
       "sex         0\n",
       "cp          0\n",
       "trestbps    0\n",
       "chol        0\n",
       "target      0\n",
       "dtype: int64"
      ]
     },
     "execution_count": 22,
     "metadata": {},
     "output_type": "execute_result"
    }
   ],
   "source": [
    "df.isnull().sum()"
   ]
  },
  {
   "cell_type": "markdown",
   "id": "0369eb63",
   "metadata": {},
   "source": [
    "# Logistic Regression"
   ]
  },
  {
   "cell_type": "code",
   "execution_count": 23,
   "id": "8557eaa1",
   "metadata": {},
   "outputs": [],
   "source": [
    "X = df.drop(columns = 'target' , axis = 1)\n",
    "Y = df['target']"
   ]
  },
  {
   "cell_type": "code",
   "execution_count": 24,
   "id": "83a97ec4",
   "metadata": {},
   "outputs": [],
   "source": [
    "X_train , X_test , Y_train , Y_test = train_test_split(X,Y, test_size=0.2 , stratify = Y , random_state =2)"
   ]
  },
  {
   "cell_type": "code",
   "execution_count": 25,
   "id": "3aa9536d",
   "metadata": {},
   "outputs": [
    {
     "name": "stdout",
     "output_type": "stream",
     "text": [
      "(303, 5) (242, 5) (61, 5)\n"
     ]
    }
   ],
   "source": [
    "print(X.shape , X_train.shape , X_test.shape)"
   ]
  },
  {
   "cell_type": "code",
   "execution_count": 26,
   "id": "d519d789",
   "metadata": {},
   "outputs": [
    {
     "data": {
      "text/html": [
       "<style>#sk-container-id-2 {color: black;background-color: white;}#sk-container-id-2 pre{padding: 0;}#sk-container-id-2 div.sk-toggleable {background-color: white;}#sk-container-id-2 label.sk-toggleable__label {cursor: pointer;display: block;width: 100%;margin-bottom: 0;padding: 0.3em;box-sizing: border-box;text-align: center;}#sk-container-id-2 label.sk-toggleable__label-arrow:before {content: \"▸\";float: left;margin-right: 0.25em;color: #696969;}#sk-container-id-2 label.sk-toggleable__label-arrow:hover:before {color: black;}#sk-container-id-2 div.sk-estimator:hover label.sk-toggleable__label-arrow:before {color: black;}#sk-container-id-2 div.sk-toggleable__content {max-height: 0;max-width: 0;overflow: hidden;text-align: left;background-color: #f0f8ff;}#sk-container-id-2 div.sk-toggleable__content pre {margin: 0.2em;color: black;border-radius: 0.25em;background-color: #f0f8ff;}#sk-container-id-2 input.sk-toggleable__control:checked~div.sk-toggleable__content {max-height: 200px;max-width: 100%;overflow: auto;}#sk-container-id-2 input.sk-toggleable__control:checked~label.sk-toggleable__label-arrow:before {content: \"▾\";}#sk-container-id-2 div.sk-estimator input.sk-toggleable__control:checked~label.sk-toggleable__label {background-color: #d4ebff;}#sk-container-id-2 div.sk-label input.sk-toggleable__control:checked~label.sk-toggleable__label {background-color: #d4ebff;}#sk-container-id-2 input.sk-hidden--visually {border: 0;clip: rect(1px 1px 1px 1px);clip: rect(1px, 1px, 1px, 1px);height: 1px;margin: -1px;overflow: hidden;padding: 0;position: absolute;width: 1px;}#sk-container-id-2 div.sk-estimator {font-family: monospace;background-color: #f0f8ff;border: 1px dotted black;border-radius: 0.25em;box-sizing: border-box;margin-bottom: 0.5em;}#sk-container-id-2 div.sk-estimator:hover {background-color: #d4ebff;}#sk-container-id-2 div.sk-parallel-item::after {content: \"\";width: 100%;border-bottom: 1px solid gray;flex-grow: 1;}#sk-container-id-2 div.sk-label:hover label.sk-toggleable__label {background-color: #d4ebff;}#sk-container-id-2 div.sk-serial::before {content: \"\";position: absolute;border-left: 1px solid gray;box-sizing: border-box;top: 0;bottom: 0;left: 50%;z-index: 0;}#sk-container-id-2 div.sk-serial {display: flex;flex-direction: column;align-items: center;background-color: white;padding-right: 0.2em;padding-left: 0.2em;position: relative;}#sk-container-id-2 div.sk-item {position: relative;z-index: 1;}#sk-container-id-2 div.sk-parallel {display: flex;align-items: stretch;justify-content: center;background-color: white;position: relative;}#sk-container-id-2 div.sk-item::before, #sk-container-id-2 div.sk-parallel-item::before {content: \"\";position: absolute;border-left: 1px solid gray;box-sizing: border-box;top: 0;bottom: 0;left: 50%;z-index: -1;}#sk-container-id-2 div.sk-parallel-item {display: flex;flex-direction: column;z-index: 1;position: relative;background-color: white;}#sk-container-id-2 div.sk-parallel-item:first-child::after {align-self: flex-end;width: 50%;}#sk-container-id-2 div.sk-parallel-item:last-child::after {align-self: flex-start;width: 50%;}#sk-container-id-2 div.sk-parallel-item:only-child::after {width: 0;}#sk-container-id-2 div.sk-dashed-wrapped {border: 1px dashed gray;margin: 0 0.4em 0.5em 0.4em;box-sizing: border-box;padding-bottom: 0.4em;background-color: white;}#sk-container-id-2 div.sk-label label {font-family: monospace;font-weight: bold;display: inline-block;line-height: 1.2em;}#sk-container-id-2 div.sk-label-container {text-align: center;}#sk-container-id-2 div.sk-container {/* jupyter's `normalize.less` sets `[hidden] { display: none; }` but bootstrap.min.css set `[hidden] { display: none !important; }` so we also need the `!important` here to be able to override the default hidden behavior on the sphinx rendered scikit-learn.org. See: https://github.com/scikit-learn/scikit-learn/issues/21755 */display: inline-block !important;position: relative;}#sk-container-id-2 div.sk-text-repr-fallback {display: none;}</style><div id=\"sk-container-id-2\" class=\"sk-top-container\"><div class=\"sk-text-repr-fallback\"><pre>LogisticRegression()</pre><b>In a Jupyter environment, please rerun this cell to show the HTML representation or trust the notebook. <br />On GitHub, the HTML representation is unable to render, please try loading this page with nbviewer.org.</b></div><div class=\"sk-container\" hidden><div class=\"sk-item\"><div class=\"sk-estimator sk-toggleable\"><input class=\"sk-toggleable__control sk-hidden--visually\" id=\"sk-estimator-id-2\" type=\"checkbox\" checked><label for=\"sk-estimator-id-2\" class=\"sk-toggleable__label sk-toggleable__label-arrow\">LogisticRegression</label><div class=\"sk-toggleable__content\"><pre>LogisticRegression()</pre></div></div></div></div></div>"
      ],
      "text/plain": [
       "LogisticRegression()"
      ]
     },
     "execution_count": 26,
     "metadata": {},
     "output_type": "execute_result"
    }
   ],
   "source": [
    "model = LogisticRegression()\n",
    "model.fit(X_train , Y_train)"
   ]
  },
  {
   "cell_type": "code",
   "execution_count": 27,
   "id": "4afb43f6",
   "metadata": {},
   "outputs": [
    {
     "name": "stdout",
     "output_type": "stream",
     "text": [
      "0.7851239669421488\n"
     ]
    }
   ],
   "source": [
    "X_pred = model.predict(X_train)\n",
    "training_acc = accuracy_score(X_pred , Y_train)\n",
    "print(training_acc)"
   ]
  },
  {
   "cell_type": "code",
   "execution_count": 28,
   "id": "52a3b881",
   "metadata": {},
   "outputs": [
    {
     "name": "stdout",
     "output_type": "stream",
     "text": [
      "0.7213114754098361\n"
     ]
    }
   ],
   "source": [
    "X_pred_test = model.predict(X_test)\n",
    "test_acc = accuracy_score(X_pred_test , Y_test)\n",
    "print(test_acc)"
   ]
  },
  {
   "cell_type": "code",
   "execution_count": 29,
   "id": "0b7db6cb",
   "metadata": {},
   "outputs": [],
   "source": [
    "def predictions(ages, gender , chp , restbp , chole):\n",
    "    input_data = (ages, gender , chp , restbp , chole)\n",
    "    input_arr = np.asarray(input_data)\n",
    "    input_final = input_arr.reshape(1,-1)\n",
    "    prediction = model.predict(input_final)\n",
    "    return prediction"
   ]
  },
  {
   "cell_type": "code",
   "execution_count": 30,
   "id": "e7611c58",
   "metadata": {},
   "outputs": [],
   "source": [
    "pp = predictions(10, 0 , 1 , 80 , 121)\n",
    "if pp[0] == 0:\n",
    "    print(\"no\")\n",
    "else:\n",
    "    print(\"yes\")"
   ]
  },
  {
   "cell_type": "markdown",
   "id": "a4485047",
   "metadata": {},
   "source": [
    "# using Tkinter for easy and user-friendly inputs"
   ]
  },
  {
   "cell_type": "code",
   "execution_count": 33,
   "id": "cfabe296",
   "metadata": {},
   "outputs": [
    {
     "name": "stderr",
     "output_type": "stream",
     "text": [
      "C:\\Users\\Nikita\\AppData\\Local\\Programs\\Python\\Python310\\lib\\site-packages\\sklearn\\base.py:439: UserWarning: X does not have valid feature names, but LogisticRegression was fitted with feature names\n",
      "  warnings.warn(\n"
     ]
    }
   ],
   "source": [
    "\n",
    "\n",
    "def predictions(ages, gender, chp, restbp, chole):\n",
    "    age = int(ages)\n",
    "    gender = int(gender)  # Assuming 0 for male and 1 for female, adjust as needed\n",
    "    chest_pain = int(chp)\n",
    "    resting_bp = int(restbp)\n",
    "    cholesterol = int(chole)\n",
    "    input_data = (ages, gender, chp, restbp, chole)\n",
    "    input_arr = np.asarray(input_data)\n",
    "    input_final = input_arr.reshape(1, -1)\n",
    "    prediction = model.predict(input_final)\n",
    "    return prediction\n",
    "\n",
    "def submit():\n",
    "    age = age_entry.get()\n",
    "    gender = gender_var.get()\n",
    "    chest_pain = chest_pain_entry.get()\n",
    "    resting_bp = resting_bp_entry.get()\n",
    "    cholesterol = cholesterol_entry.get()\n",
    "\n",
    "    # Check if any of the fields are empty\n",
    "    if not age or not gender or not chest_pain or not resting_bp or not cholesterol:\n",
    "        messagebox.showerror(\"Input Error\", \"Please fill in all fields.\")\n",
    "        return\n",
    "\n",
    "    # Ensure that all numeric fields are converted to integers\n",
    "    try:\n",
    "        age = int(age)\n",
    "        gender = 0 if gender_var.get().lower() == 'male' else 1  # Assuming 0 for male and 1 for female, adjust as needed\n",
    "        chest_pain = int(chest_pain)\n",
    "        resting_bp = int(resting_bp)\n",
    "        cholesterol = int(cholesterol)\n",
    "    except ValueError:\n",
    "        messagebox.showerror(\"Input Error\", \"Numeric fields must contain valid numbers.\")\n",
    "        return\n",
    "\n",
    "    pre = predictions(age, gender, chest_pain, resting_bp, cholesterol)\n",
    "\n",
    "    if pre == 0:\n",
    "        message = \"You have a risk of having heart disease\"\n",
    "    else:\n",
    "        message = \"You do not have a risk of having heart disease\"\n",
    "\n",
    "    messagebox.showinfo(\"Prediction Result\", message)\n",
    "\n",
    "def cancel():\n",
    "    root.destroy()\n",
    "\n",
    "root = tk.Tk()\n",
    "root.title(\"Health Information\")\n",
    "root.geometry(\"400x350\")\n",
    "\n",
    "window_width = root.winfo_reqwidth()\n",
    "window_height = root.winfo_reqheight()\n",
    "position_right = int(root.winfo_screenwidth() / 2 - window_width / 2)\n",
    "position_down = int(root.winfo_screenheight() / 2 - window_height / 2)\n",
    "root.geometry(\"+{}+{}\".format(position_right, position_down))\n",
    "\n",
    "age_label = ttk.Label(root, text=\"Age:\")\n",
    "age_entry = ttk.Entry(root)\n",
    "\n",
    "gender_label = ttk.Label(root, text=\"Gender:\")\n",
    "gender_var = tk.StringVar()\n",
    "gender_option_menu = ttk.OptionMenu(root, gender_var, \"Male\", \"Female\")\n",
    "\n",
    "chest_pain_label = ttk.Label(root, text=\"Chest Pain (0-5):\")\n",
    "chest_pain_entry = ttk.Entry(root)\n",
    "\n",
    "resting_bp_label = ttk.Label(root, text=\"Resting BP:\")\n",
    "resting_bp_entry = ttk.Entry(root)\n",
    "\n",
    "cholesterol_label = ttk.Label(root, text=\"Cholesterol:\")\n",
    "cholesterol_entry = ttk.Entry(root)\n",
    "\n",
    "submit_button = ttk.Button(root, text=\"Predict\", command=submit)\n",
    "cancel_button = ttk.Button(root, text=\"Cancel\", command=cancel)\n",
    "\n",
    "age_label.grid(row=0, column=0, sticky=\"w\")\n",
    "age_entry.grid(row=0, column=1)\n",
    "\n",
    "gender_label.grid(row=1, column=0, sticky=\"w\")\n",
    "gender_option_menu.grid(row=1, column=1)\n",
    "\n",
    "chest_pain_label.grid(row=2, column=0, sticky=\"w\")\n",
    "chest_pain_entry.grid(row=2, column=1)\n",
    "\n",
    "resting_bp_label.grid(row=3, column=0, sticky=\"w\")\n",
    "resting_bp_entry.grid(row=3, column=1)\n",
    "\n",
    "cholesterol_label.grid(row=4, column=0, sticky=\"w\")\n",
    "cholesterol_entry.grid(row=4, column=1)\n",
    "\n",
    "submit_button.grid(row=5, columnspan=2)\n",
    "cancel_button.grid(row=6, columnspan=2)\n",
    "\n",
    "root.mainloop()\n",
    "\n"
   ]
  },
  {
   "cell_type": "code",
   "execution_count": null,
   "id": "c45e7187",
   "metadata": {},
   "outputs": [],
   "source": []
  }
 ],
 "metadata": {
  "kernelspec": {
   "display_name": "Python 3 (ipykernel)",
   "language": "python",
   "name": "python3"
  },
  "language_info": {
   "codemirror_mode": {
    "name": "ipython",
    "version": 3
   },
   "file_extension": ".py",
   "mimetype": "text/x-python",
   "name": "python",
   "nbconvert_exporter": "python",
   "pygments_lexer": "ipython3",
   "version": "3.10.4"
  }
 },
 "nbformat": 4,
 "nbformat_minor": 5
}
